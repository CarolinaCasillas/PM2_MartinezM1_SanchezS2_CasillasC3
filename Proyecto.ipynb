{
 "cells": [
  {
   "attachments": {
    "image.png": {
     "image/png": "[encoded data removed]"
    }
   },
   "cell_type": "markdown",
   "metadata": {},
   "source": [
    "___\n",
    "María del Carmen Martínez Hernández\\\n",
    "Sindy Citlali Sánchez Ponce\\\n",
    "Carolina Anidsel Casillas García   \n",
    "___\n",
    "## 1.1 Generación de Terrenos Aleatorios.\n",
    "\n",
    "### 1.2 Introducción\n",
    "> Un fractal es un objeto geométrico caracterizado por presentar una estructura que se repite a diferentes escalas. En cierto modo, se trata de un patrón sin fin. (Fernández Cara, 2018)\n",
    "\n",
    "> Los geometría fractal es útil para modelar formas complejas de la naturaleza. Una de sus muchas aplicaciones es para generar terrenos. Un terreno fractal, es una superficie generada usando un algoritmo diseñado para producir un comportamiento fractal que mimetiza la apariencia de un terreno natural. En otras palabras, el resultado de este procedimiento es una superficie aleatoria que exhibe comportamiento fractal. (Fractal landscape, 2022)\n",
    "\n",
    "> Para la generación de terrenos utilizamos el algoritmo del diamante-cuadrado. El algoritmo del diamante-cuadrado comienza con una matriz cuadrada, bidimensional de ancho y alto $2^n + 1$. Las cuatro esquinas de la matriz inician con el mismo valor de altura.\n",
    "\n",
    "> Tomando lo anterior como punto de partida, comienza una rutina iterativa que consta de dos pasos:\n",
    "> 1. Paso Diamante\n",
    "> Para cada cuadrado de la matriz, se genera un valor aleatorio en el punto medio del cuadrado, donde se intersecan las dos diagonales. El valor del punto medio se calcula promediando los cuatro valores de las esquinas, más una cantidad aleatoria. \n",
    "> 2. Paso Cuadrado\n",
    "> Para cada diamante de la matriz, se establece un valor aleatorio en el centro del diamante. Se calcula el valor del punto medio promediando los valores de las esquinas, más una cantidad aleatoria generada en el mismo rango que se usó para el paso diamante. Esto te da cuadrados de nuevo.\\\n",
    "(Martz)\n",
    "![image.png](attachment:image.png)\n",
    "\n",
    "### 1.3 Objetivos.\n",
    "> #### 1.1 Objetivo general.\n",
    ">  - Generar terrenos con fractales utilizando el algoritmo de diamante cuadrado.\n",
    "> #### 1.2 Objetivos específicos\n",
    ">  - Comprender y utilizar el algoritmo del diamente-cuadrado.\n",
    ">  - Graficar datos en 3D.\n",
    ">  - Utilizar números aleatorios.\n",
    "\n",
    "### 1.4 Modelo que representa el problema.\n",
    "> - Se debe incluir las ecuaciones que rigen el sistema que se está estudiando.\n",
    "> - Deducción del modelo. Explicación detallada de las ecuaciones de acuerdo al problema que se quiera resolver o modelo que se quiera representar.\n",
    "> - ¿Qué situación representa el modelo? ¿Cuáles son las limitaciones fundamentales?\n",
    "> - Significado y valor de los parámetros (constantes que aparezcan en el modelo).\n",
    "\n",
    "### 1.5 Solución del problema.\n",
    "> - Se debe resolver el problema.\n",
    "> - ¿Condujo el algoritmo a una solución factible?\n",
    "\n",
    "### 1.6 Visualización de la solución del problema.\n",
    "> Se deben mostrar gráficas y/o tablas que ilustren de forma adecuada los resultados. No olviden etiquetar los ejes y si se tienen varias curvas en una sola gráfica también etiquetarlas (ojo: que las curvas se puedan diferenciar con colores y estilos de línea).\n",
    "\n",
    "### 1.7 Conclusiones.\n",
    "> Se debe concluir respecto a los objetivos planteados de acuerdo a los resultados obtenidos.\n",
    "\n",
    "### 1.8 Referencias.\n",
    "> Citar (en formato APA) la bibliografía utilizada."
   ]
  },
  {
   "cell_type": "code",
   "execution_count": 50,
   "metadata": {},
   "outputs": [],
   "source": [
    "import numpy as np\n",
    "import pandas as pd\n",
    "import random"
   ]
  },
  {
   "cell_type": "code",
   "execution_count": 51,
   "metadata": {},
   "outputs": [
    {
     "data": {
      "text/plain": [
       "array([[0, 0, 0],\n",
       "       [0, 0, 0],\n",
       "       [0, 0, 0]])"
      ]
     },
     "execution_count": 51,
     "metadata": {},
     "output_type": "execute_result"
    }
   ],
   "source": [
    "matriz = np.array([[0,0,0],\n",
    "                   [0,0,0],\n",
    "                   [0,0,0]])\n",
    "matriz"
   ]
  },
  {
   "cell_type": "code",
   "execution_count": 52,
   "metadata": {},
   "outputs": [
    {
     "data": {
      "text/plain": [
       "array([[0, 0, 0, 0, 0],\n",
       "       [0, 0, 0, 0, 0],\n",
       "       [0, 0, 0, 0, 0],\n",
       "       [0, 0, 0, 0, 0],\n",
       "       [0, 0, 0, 0, 0]])"
      ]
     },
     "execution_count": 52,
     "metadata": {},
     "output_type": "execute_result"
    }
   ],
   "source": [
    "mborde = np.pad(matriz,pad_width=1,mode=\"constant\",constant_values=0)\n",
    "mborde"
   ]
  },
  {
   "cell_type": "code",
   "execution_count": 53,
   "metadata": {},
   "outputs": [
    {
     "data": {
      "text/plain": [
       "5"
      ]
     },
     "execution_count": 53,
     "metadata": {},
     "output_type": "execute_result"
    }
   ],
   "source": [
    "n = len(mborde)\n",
    "n"
   ]
  },
  {
   "cell_type": "code",
   "execution_count": 54,
   "metadata": {},
   "outputs": [
    {
     "data": {
      "text/plain": [
       "array([[0., 0., 0., 0., 0., 0., 0.],\n",
       "       [0., 0., 0., 0., 0., 0., 0.],\n",
       "       [0., 0., 0., 0., 0., 0., 0.],\n",
       "       [0., 0., 0., 0., 0., 0., 0.],\n",
       "       [0., 0., 0., 0., 0., 0., 0.],\n",
       "       [0., 0., 0., 0., 0., 0., 0.],\n",
       "       [0., 0., 0., 0., 0., 0., 0.]])"
      ]
     },
     "execution_count": 54,
     "metadata": {},
     "output_type": "execute_result"
    }
   ],
   "source": [
    "m2 = np.zeros((2*n-3,2*n-3))\n",
    "m2"
   ]
  },
  {
   "cell_type": "code",
   "execution_count": 55,
   "metadata": {},
   "outputs": [],
   "source": [
    "n2 = len(m2)\n",
    "\n",
    "for i in range (1, n2-3):\n",
    "    for j in range (1, n2-3):\n",
    "        m2[2*i-1,2*j-1]=mborde[i,j]\n",
    "        #print(m2[i,j])\n",
    "        #print(2*i-1,2*j-1)"
   ]
  },
  {
   "cell_type": "code",
   "execution_count": 67,
   "metadata": {},
   "outputs": [
    {
     "ename": "TypeError",
     "evalue": "'int' object is not callable",
     "output_type": "error",
     "traceback": [
      "\u001b[1;31m---------------------------------------------------------------------------\u001b[0m",
      "\u001b[1;31mTypeError\u001b[0m                                 Traceback (most recent call last)",
      "Input \u001b[1;32mIn [67]\u001b[0m, in \u001b[0;36m<cell line: 4>\u001b[1;34m()\u001b[0m\n\u001b[0;32m      1\u001b[0m mcuadrados \u001b[38;5;241m=\u001b[39m m2\n\u001b[0;32m      2\u001b[0m rango \u001b[38;5;241m=\u001b[39m \u001b[38;5;241m1\u001b[39m\n\u001b[1;32m----> 4\u001b[0m \u001b[38;5;28;01mfor\u001b[39;00m i \u001b[38;5;129;01min\u001b[39;00m \u001b[38;5;28;43mrange\u001b[39;49m\u001b[43m \u001b[49m\u001b[43m(\u001b[49m\u001b[38;5;241;43m1\u001b[39;49m\u001b[43m,\u001b[49m\u001b[38;5;241;43m4\u001b[39;49m\u001b[43m)\u001b[49m:\n\u001b[0;32m      5\u001b[0m     \u001b[38;5;28;01mfor\u001b[39;00m j \u001b[38;5;129;01min\u001b[39;00m \u001b[38;5;28mrange\u001b[39m (\u001b[38;5;241m2\u001b[39m,n2\u001b[38;5;241m-\u001b[39m\u001b[38;5;241m2\u001b[39m,\u001b[38;5;241m2\u001b[39m):\n\u001b[0;32m      6\u001b[0m         mcuadrados[i,j] \u001b[38;5;241m=\u001b[39m (mcuadrados[i\u001b[38;5;241m-\u001b[39m\u001b[38;5;241m1\u001b[39m,j\u001b[38;5;241m-\u001b[39m\u001b[38;5;241m1\u001b[39m]\u001b[38;5;241m+\u001b[39mmcuadrados[i\u001b[38;5;241m+\u001b[39m\u001b[38;5;241m1\u001b[39m,j\u001b[38;5;241m+\u001b[39m\u001b[38;5;241m1\u001b[39m]\u001b[38;5;241m+\u001b[39mmcuadrados[i\u001b[38;5;241m+\u001b[39m\u001b[38;5;241m1\u001b[39m,j\u001b[38;5;241m-\u001b[39m\u001b[38;5;241m1\u001b[39m]\u001b[38;5;241m+\u001b[39mmcuadrados[i\u001b[38;5;241m-\u001b[39m\u001b[38;5;241m1\u001b[39m,j\u001b[38;5;241m+\u001b[39m\u001b[38;5;241m1\u001b[39m])\u001b[38;5;241m*\u001b[39m\u001b[38;5;241m0.25\u001b[39m \u001b[38;5;241m+\u001b[39m \u001b[38;5;241m2\u001b[39m\u001b[38;5;241m*\u001b[39mrango\u001b[38;5;241m*\u001b[39mrandom\u001b[38;5;241m.\u001b[39mchoices([\u001b[38;5;241m0.2\u001b[39m,\u001b[38;5;241m0.5\u001b[39m,\u001b[38;5;241m0.8\u001b[39m],weights\u001b[38;5;241m=\u001b[39m[\u001b[38;5;241m3\u001b[39m,\u001b[38;5;241m5\u001b[39m,\u001b[38;5;241m2\u001b[39m],k\u001b[38;5;241m=\u001b[39m\u001b[38;5;241m1\u001b[39m)\n",
      "\u001b[1;31mTypeError\u001b[0m: 'int' object is not callable"
     ]
    }
   ],
   "source": [
    "mcuadrados = m2\n",
    "rango = 1\n",
    "\n",
    "for i in range (1,4):\n",
    "    for j in range (2,n2-2,2):\n",
    "        mcuadrados[i,j] = (mcuadrados[i-1,j-1]+mcuadrados[i+1,j+1]+mcuadrados[i+1,j-1]+mcuadrados[i-1,j+1])*0.25 + 2*rango*random.choices([0.2,0.5,0.8],weights=[3,5,2],k=1)"
   ]
  },
  {
   "cell_type": "code",
   "execution_count": null,
   "metadata": {},
   "outputs": [],
   "source": []
  }
 ],
 "metadata": {
  "kernelspec": {
   "display_name": "Python 3 (ipykernel)",
   "language": "python",
   "name": "python3"
  },
  "language_info": {
   "codemirror_mode": {
    "name": "ipython",
    "version": 3
   },
   "file_extension": ".py",
   "mimetype": "text/x-python",
   "name": "python",
   "nbconvert_exporter": "python",
   "pygments_lexer": "ipython3",
   "version": "3.9.12"
  }
 },
 "nbformat": 4,
 "nbformat_minor": 2
}
